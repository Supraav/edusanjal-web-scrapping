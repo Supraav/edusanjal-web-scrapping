{
 "cells": [
  {
   "cell_type": "code",
   "execution_count": 1,
   "id": "cc55b648",
   "metadata": {},
   "outputs": [],
   "source": [
    "import requests\n",
    "from bs4 import BeautifulSoup as bs\n",
    "import requests\n",
    "import json"
   ]
  },
  {
   "cell_type": "code",
   "execution_count": 75,
   "id": "3a22cd31",
   "metadata": {},
   "outputs": [],
   "source": [
    "HEADER = {'User-Agent': 'Mozilla/5.0 (Windows; U; Windows NT 5.1; en-US; rv:1.9.0.7) Gecko/2009021910 Firefox/3.0.7'}\n",
    "# website = 'https://edusanjal.com/college/texas-international-higher-secondary-school-and-college/'\n",
    "website = 'https://edusanjal.com/college/padmashree-international-college/'"
   ]
  },
  {
   "cell_type": "code",
   "execution_count": 76,
   "id": "18c47eae",
   "metadata": {},
   "outputs": [
    {
     "name": "stdout",
     "output_type": "stream",
     "text": [
      "<title>Padmashree College - Edusanjal</title>\n"
     ]
    }
   ],
   "source": [
    "result = requests.get(website,headers=HEADER)\n",
    "content = result.text\n",
    "soup = bs(content,\"lxml\")\n",
    "# print(soup.prettify())\n",
    "print(soup.head.title)"
   ]
  },
  {
   "cell_type": "markdown",
   "id": "c322fa5d",
   "metadata": {},
   "source": [
    "#### title"
   ]
  },
  {
   "cell_type": "code",
   "execution_count": 93,
   "id": "e43bf2ce",
   "metadata": {},
   "outputs": [],
   "source": [
    "title_finder=soup.find('div',class_ = 'org-title')\n",
    "title=soup.find('div',class_ = 'org-title').h1.text\n"
   ]
  },
  {
   "cell_type": "code",
   "execution_count": 94,
   "id": "b87ba1f6",
   "metadata": {},
   "outputs": [
    {
     "name": "stdout",
     "output_type": "stream",
     "text": [
      "Padmashree College  ✓ \n"
     ]
    }
   ],
   "source": [
    "print(title)"
   ]
  },
  {
   "cell_type": "markdown",
   "id": "efe076a5",
   "metadata": {},
   "source": [
    "#### address\n"
   ]
  },
  {
   "cell_type": "code",
   "execution_count": 98,
   "id": "6f731a42",
   "metadata": {},
   "outputs": [
    {
     "name": "stdout",
     "output_type": "stream",
     "text": [
      "['Tinkune,', 'Kathmandu']\n"
     ]
    }
   ],
   "source": [
    "address=title_finder.find('div',class_='text-base')\n",
    "address_location = address.span.get_text() \n",
    "location=address_location.split(' ')\n",
    "print(location)"
   ]
  },
  {
   "cell_type": "markdown",
   "id": "d5536585",
   "metadata": {},
   "source": [
    "#### street line address"
   ]
  },
  {
   "cell_type": "code",
   "execution_count": 100,
   "id": "081772c6",
   "metadata": {},
   "outputs": [
    {
     "name": "stdout",
     "output_type": "stream",
     "text": [
      "Tinkune,Kathmandu\n"
     ]
    }
   ],
   "source": [
    "street_line_address=''.join(location)\n",
    "print(street_line_address)"
   ]
  },
  {
   "cell_type": "code",
   "execution_count": 20,
   "id": "39802e02",
   "metadata": {},
   "outputs": [
    {
     "name": "stdout",
     "output_type": "stream",
     "text": [
      "Mitrapark,Chabhil,\n",
      "Kathmandu\n"
     ]
    }
   ],
   "source": [
    "if len(location) > 2:    \n",
    "    city=location[0]+location[1]\n",
    "    district=location[2]\n",
    "else:\n",
    "    city=location[0]\n",
    "    district=location[1]\n",
    "\n",
    "#this is the city and the district\n",
    "print(city)\n",
    "print(district)"
   ]
  },
  {
   "cell_type": "markdown",
   "id": "01b713cb",
   "metadata": {},
   "source": [
    "#### latitide and longitde\n"
   ]
  },
  {
   "cell_type": "code",
   "execution_count": 103,
   "id": "8447efc8",
   "metadata": {},
   "outputs": [
    {
     "name": "stdout",
     "output_type": "stream",
     "text": [
      "27.6863 85.34699\n"
     ]
    }
   ],
   "source": [
    "direction=soup.find('div',id='map')\n",
    "map_link = direction.find('a')['href']\n",
    "coordinates = map_link.split('?q=')[1].split(',')\n",
    "# print(map_link)\n",
    "#this is the latitude and longitude\n",
    "latitude = coordinates[0]\n",
    "longitude = coordinates[1]\n",
    "print(latitude,longitude)\n"
   ]
  },
  {
   "cell_type": "markdown",
   "id": "bbaaa407",
   "metadata": {},
   "source": [
    "#### right column"
   ]
  },
  {
   "cell_type": "code",
   "execution_count": 22,
   "id": "8c900cc5",
   "metadata": {},
   "outputs": [],
   "source": [
    "right_column=soup.find('div',class_='org-right')"
   ]
  },
  {
   "cell_type": "markdown",
   "id": "3351e2b8",
   "metadata": {},
   "source": [
    "#### email"
   ]
  },
  {
   "cell_type": "code",
   "execution_count": 23,
   "id": "a5a1d5c8",
   "metadata": {},
   "outputs": [
    {
     "name": "stdout",
     "output_type": "stream",
     "text": [
      "enquiry@texasintl.edu.np\n"
     ]
    }
   ],
   "source": [
    "email_tag=right_column.find('li',title='Email')\n",
    "#this is the email\n",
    "email_element = email_tag.span.get_text()\n",
    "print(email_element)"
   ]
  },
  {
   "cell_type": "markdown",
   "id": "700be401",
   "metadata": {},
   "source": [
    "#### phone number"
   ]
  },
  {
   "cell_type": "code",
   "execution_count": 24,
   "id": "dce90700",
   "metadata": {},
   "outputs": [
    {
     "name": "stdout",
     "output_type": "stream",
     "text": [
      "['01-4579017', '01-4490670', '01-4488627']\n"
     ]
    }
   ],
   "source": [
    "phone_tag=right_column.find('li',title='Phone')\n",
    "#this is the phone element\n",
    "phone_element = phone_tag.span.get_text().replace(',','|').replace('&','|').replace(' ','').split('|')\n",
    "print(phone_element)"
   ]
  },
  {
   "cell_type": "markdown",
   "id": "9f26d756",
   "metadata": {},
   "source": [
    "#### logo"
   ]
  },
  {
   "cell_type": "code",
   "execution_count": 25,
   "id": "21e7b238",
   "metadata": {},
   "outputs": [
    {
     "name": "stdout",
     "output_type": "stream",
     "text": [
      "https://media.edusanjal.com/__sized__/logos/logo-02-thumbnail-200x200.png\n"
     ]
    }
   ],
   "source": [
    "logos=soup.select_one('img.max-h-48.mb-1.md\\:-mb-8.rounded-r-3xl.md\\:shadow-xl.p-4.md\\:bg-white')['src']\n",
    "print(logos)"
   ]
  },
  {
   "cell_type": "markdown",
   "id": "69def8e7",
   "metadata": {},
   "source": [
    "#### cover image"
   ]
  },
  {
   "cell_type": "code",
   "execution_count": 26,
   "id": "0119d14e",
   "metadata": {},
   "outputs": [
    {
     "name": "stdout",
     "output_type": "stream",
     "text": [
      "https://media.edusanjal.com/__sized__/cover_photo/texas-intl-cover-thumbnail-1400x280-70.jpg\n"
     ]
    }
   ],
   "source": [
    "coverimage=soup.select_one('img.object-scale-down.w-full.mh-300')['src']\n",
    "print(coverimage)"
   ]
  },
  {
   "cell_type": "markdown",
   "id": "634f6d51",
   "metadata": {},
   "source": [
    "#### about"
   ]
  },
  {
   "cell_type": "code",
   "execution_count": 27,
   "id": "0e449878",
   "metadata": {},
   "outputs": [
    {
     "name": "stdout",
     "output_type": "stream",
     "text": [
      "Texas International College is ideally situated at Mitrapark, Chabahil, Kathmandu, one of the prime location of Kathmandu Valley. It is a unit of Texas International Education Network established in 2009. It is an academic institution run, managed and patronized by energetic educational professionals and experts having strong will to turn it into the first choice of quality-seeking and studious students. \n",
      "The motto of the college is 'Education for a complete human being' and the college commits to provide quality education at affordable fees. It caters quality education in Management, Science and Humanities streams.\n",
      "Texas International College offers B.Sc. CSIT, Bachelor of Business Studies (BBS), Bachelor of Business Management (BBM),Bachelor of Arts (BA), Bachelor of Arts in Social Works (BSW), Bachelor of Computer Applications (BCA), and Master of Business Studies (MBS) with the affiliation from Tribhuvan University.\n",
      "The main purpose of the college is to produce professionally sound, socially amiable and globally competent workforce for the global needs. Its main objective is to make students enrolled to be able to pursue their study uniquely, research brilliantly, interact sufficiently and enhance multicultural knowledge. The college has dedicated, experienced and efficient teaching faculties.  \n"
     ]
    }
   ],
   "source": [
    "about_main=soup.select_one('.content.mt-4.col-span-3.pr-8')\n",
    "#this is the about text\n",
    "about_text=about_main.select_one('.prose.max-w-none.text-gray-600 ').text\n",
    "print(about_text)"
   ]
  },
  {
   "cell_type": "markdown",
   "id": "6af9a862",
   "metadata": {},
   "source": [
    "#### website URL"
   ]
  },
  {
   "cell_type": "code",
   "execution_count": 110,
   "id": "fd880dbc",
   "metadata": {},
   "outputs": [
    {
     "name": "stdout",
     "output_type": "stream",
     "text": [
      "http://www.texasintl.edu.np/\n"
     ]
    }
   ],
   "source": [
    "url=right_column.select_one('a.inline-flex.justify-center.h-12.w-12.text-lg.hover\\:text-gray-800')['href']\n",
    "print(url)"
   ]
  },
  {
   "cell_type": "markdown",
   "id": "13d5ac86",
   "metadata": {},
   "source": [
    "#### established date"
   ]
  },
  {
   "cell_type": "code",
   "execution_count": 112,
   "id": "dad49540",
   "metadata": {},
   "outputs": [
    {
     "name": "stdout",
     "output_type": "stream",
     "text": [
      "2009 AD\n"
     ]
    }
   ],
   "source": [
    "est_date=right_column.find('li',title='Established')\n",
    "est_list= est_date.span.get_text().split(' ')\n",
    "est=est_list[1]+' '+est_list[2]\n",
    "print(est)"
   ]
  },
  {
   "cell_type": "markdown",
   "id": "195f8d51",
   "metadata": {},
   "source": [
    "#### ownership type"
   ]
  },
  {
   "cell_type": "code",
   "execution_count": 115,
   "id": "fca42235",
   "metadata": {},
   "outputs": [
    {
     "name": "stdout",
     "output_type": "stream",
     "text": [
      " private Institution \n"
     ]
    }
   ],
   "source": [
    "ownership_type_find=right_column.find('li',title='Ownership')\n",
    "org_type= ownership_type_find.span.get_text()\n",
    "print(org_type)"
   ]
  },
  {
   "cell_type": "markdown",
   "id": "f1fc66ba",
   "metadata": {},
   "source": [
    "#### gallery"
   ]
  },
  {
   "cell_type": "code",
   "execution_count": 116,
   "id": "7c643708",
   "metadata": {},
   "outputs": [
    {
     "name": "stdout",
     "output_type": "stream",
     "text": [
      "['https://media.edusanjal.com/__sized__/gallery/Padmashree_Library-crop-c0-5__0-5-180x120-70.JPG', 'https://media.edusanjal.com/__sized__/gallery/Food_Preparation_Padmashree-crop-c0-5__0-5-180x120-70.JPG', 'https://media.edusanjal.com/__sized__/gallery/Culinary_design_Padmashree_International_College-crop-c0-5__0-5-180x120-70.JPG', 'https://media.edusanjal.com/__sized__/gallery/Padmashree_6-crop-c0-5__0-5-180x120-70.jpg', 'https://media.edusanjal.com/__sized__/gallery/Padmashree_4-crop-c0-5__0-5-180x120-70.jpg', 'https://media.edusanjal.com/__sized__/gallery/Padmashree_BHM-crop-c0-5__0-5-180x120-70.jpg', 'https://media.edusanjal.com/__sized__/gallery/Padmashree_Activities_4-crop-c0-5__0-5-180x120-70.JPG', 'https://media.edusanjal.com/__sized__/gallery/Padmashree_Activities_3-crop-c0-5__0-5-180x120-70.JPG', 'https://media.edusanjal.com/__sized__/gallery/Padmashree_Activities_2-crop-c0-5__0-5-180x120-70.JPG', 'https://media.edusanjal.com/__sized__/gallery/Padmashree_Activities_1-crop-c0-5__0-5-180x120-70.jpg', 'https://media.edusanjal.com/__sized__/gallery/padmashree_lab-crop-c0-5__0-5-180x120-70.jpg', 'https://media.edusanjal.com/__sized__/gallery/padmashree_computer_lab-crop-c0-5__0-5-180x120-70.jpg', 'https://media.edusanjal.com/__sized__/gallery/Padmashree_Class-crop-c0-5__0-5-180x120-70.JPG', 'https://media.edusanjal.com/__sized__/gallery/Padmashree_BHM_Students-crop-c0-5__0-5-180x120-70.JPG', 'https://media.edusanjal.com/__sized__/gallery/Padmashree_BHM_Bar-crop-c0-5__0-5-180x120-70.JPG', 'https://media.edusanjal.com/__sized__/gallery/Padmashree_Convocation-crop-c0-5__0-5-180x120-70.JPG']\n"
     ]
    }
   ],
   "source": [
    "\n",
    "gallery_find = soup.find('div', id='gallery')\n",
    "gallery_photos = gallery_find.find_all('img')\n",
    "gallery = [photo['src'] for photo in gallery_photos]\n",
    "print(gallery)\n",
    "    \n",
    "    \n"
   ]
  },
  {
   "cell_type": "markdown",
   "id": "5ed80616",
   "metadata": {},
   "source": [
    "#### scholarship"
   ]
  },
  {
   "cell_type": "code",
   "execution_count": 118,
   "id": "b3cddb48",
   "metadata": {},
   "outputs": [
    {
     "name": "stdout",
     "output_type": "stream",
     "text": [
      "['Entry Level Scholarships', 'Performance-based Scholarships']\n"
     ]
    }
   ],
   "source": [
    "scholarship_find=soup.find('div',id='scholarship_information')\n",
    "try:\n",
    "\n",
    "    scholarship_div=scholarship_find.select_one('.prose.max-w-none.text-gray-600').ul\n",
    "    scholarship_items = [item.text.strip() for item in scholarship_div if item.text.strip()]\n",
    "except:\n",
    "    scholarship_items=[]\n",
    "print(scholarship_items)"
   ]
  },
  {
   "cell_type": "markdown",
   "id": "38c04328",
   "metadata": {},
   "source": [
    "#### affiliated to"
   ]
  },
  {
   "cell_type": "code",
   "execution_count": 68,
   "id": "eb482f09",
   "metadata": {},
   "outputs": [
    {
     "name": "stdout",
     "output_type": "stream",
     "text": [
      "['Tribhuvan University', 'Nilai University, Malaysia']\n"
     ]
    }
   ],
   "source": [
    "affiliated=[]\n",
    "universities = soup.select('li[title=\"Accreditation\"]')\n",
    "for university in universities:\n",
    "    try:\n",
    "        name = university.select_one('a > span:last-child').text.strip()\n",
    "        affiliated.append(name)\n",
    "    except:\n",
    "        affiliated=[]\n",
    "    \n",
    "print(affiliated)"
   ]
  },
  {
   "cell_type": "markdown",
   "id": "d63dadb6",
   "metadata": {},
   "source": [
    "#### courses"
   ]
  },
  {
   "cell_type": "code",
   "execution_count": 69,
   "id": "33869719",
   "metadata": {
    "collapsed": true
   },
   "outputs": [
    {
     "name": "stdout",
     "output_type": "stream",
     "text": [
      "[<div class=\"pb-2 mb-2 border-b last:border-b-0\"><div class=\"flex justify-between mb-1\"><a class=\"font-bold\" href=\"/college/padmashree-international-college/program/bachelor-of-information-technology-nilai-university-college-malaysia/\">Bachelor of Information Technology <span class=\"italic text-sm\">(BIT)</span></a><!-- --></div><div class=\"flex justify-between text-xs mb-1\"><a class=\"\" href=\"/university/nilai-university-college-malaysia/\">Nilai University, Malaysia</a><!-- --></div><!-- --><div class=\"flex justify-between\"><a class=\"btn primary text-center py-2 block text-xs px-2 font-normal\" href=\"/college/padmashree-international-college/program/bachelor-of-information-technology-nilai-university-college-malaysia/apply\"> APPLY NOW </a></div></div>, <div class=\"pb-2 mb-2 border-b last:border-b-0\"><div class=\"flex justify-between mb-1\"><a class=\"font-bold\" href=\"/college/padmashree-international-college/program/ba-hons-in-business-and-hospitality-management-nilai-university-college-malaysia/\">BA (Hons) in Business and Hospitality Management <span class=\"italic text-sm\">(BABHM)</span></a><!-- --></div><div class=\"flex justify-between text-xs mb-1\"><a class=\"\" href=\"/university/nilai-university-college-malaysia/\">Nilai University, Malaysia</a><!-- --></div><!-- --><div class=\"flex justify-between\"><a class=\"btn primary text-center py-2 block text-xs px-2 font-normal\" href=\"/college/padmashree-international-college/program/ba-hons-in-business-and-hospitality-management-nilai-university-college-malaysia/apply\"> APPLY NOW </a></div></div>, <div class=\"pb-2 mb-2 border-b last:border-b-0\"><div class=\"flex justify-between mb-1\"><a class=\"font-bold\" href=\"/college/padmashree-international-college/program/bachelor-in-computer-application-bca-tribhuvan-university/\">Bachelor of Computer Application <span class=\"italic text-sm\">(BCA)</span></a><!-- --></div><div class=\"flex justify-between text-xs mb-1\"><a class=\"\" href=\"/university/tribhuvan-university/\">Tribhuvan University</a><span>35 Seats</span></div><!-- --><!-- --></div>, <div class=\"pb-2 mb-2 border-b last:border-b-0\"><div class=\"flex justify-between mb-1\"><a class=\"font-bold\" href=\"/college/padmashree-international-college/program/btech-food-technology-tribhuvan-university/\">Bachelor of Food Technology (BTech Food) <!-- --></a><!-- --></div><div class=\"flex justify-between text-xs mb-1\"><a class=\"\" href=\"/university/tribhuvan-university/\">Tribhuvan University</a><span>24 Seats</span></div><!-- --><!-- --></div>]\n"
     ]
    }
   ],
   "source": [
    "course=soup.find('div',id='programs')\n",
    "course_program=course.select('.pb-2.mb-2.border-b.last\\:border-b-0')\n",
    "print(course_program)"
   ]
  },
  {
   "cell_type": "markdown",
   "id": "e0c1f2fd",
   "metadata": {},
   "source": [
    "#### dictionary creation"
   ]
  },
  {
   "cell_type": "code",
   "execution_count": 73,
   "id": "cfec3220",
   "metadata": {},
   "outputs": [
    {
     "name": "stdout",
     "output_type": "stream",
     "text": [
      "{'name': 'Padmashree College  ✓ '}\n"
     ]
    }
   ],
   "source": [
    "print(dict)"
   ]
  },
  {
   "cell_type": "code",
   "execution_count": null,
   "id": "37775fc5",
   "metadata": {},
   "outputs": [],
   "source": []
  },
  {
   "cell_type": "code",
   "execution_count": 120,
   "id": "12302d2c",
   "metadata": {},
   "outputs": [
    {
     "name": "stdout",
     "output_type": "stream",
     "text": [
      "{'name': 'Padmashree College  ✓ ', 'address': {'country_name': 'Nepal', 'city': 'Mitrapark,Chabhil,', 'district': 'Kathmandu', 'street_line_address': 'Tinkune,Kathmandu', 'latitude': '27.6863', 'longitude': '85.34699'}, 'email': 'enquiry@texasintl.edu.np', 'contact': ['01-4579017', '01-4490670', '01-4488627'], 'logo': 'https://media.edusanjal.com/__sized__/logos/logo-02-thumbnail-200x200.png', 'coverimage': 'https://media.edusanjal.com/__sized__/cover_photo/texas-intl-cover-thumbnail-1400x280-70.jpg', 'about': \"Texas International College is ideally situated at Mitrapark, Chabahil, Kathmandu, one of the prime location of Kathmandu Valley. It is a unit of Texas International Education Network established in 2009. It is an academic institution run, managed and patronized by energetic educational professionals and experts having strong will to turn it into the first choice of quality-seeking and studious students.\\xa0\\nThe motto of the college is 'Education for a complete human being' and the college commits to provide quality education at affordable fees. It caters quality education in Management, Science and Humanities streams.\\nTexas International College offers B.Sc. CSIT, Bachelor of Business Studies (BBS), Bachelor of Business Management (BBM),Bachelor of Arts (BA), Bachelor of Arts in Social Works (BSW), Bachelor of Computer Applications (BCA), and Master of Business Studies (MBS)\\xa0with the affiliation from Tribhuvan University.\\nThe main purpose of the college is to produce professionally sound, socially amiable and globally competent workforce for the global needs. Its main objective is to make students enrolled to be able to pursue their study uniquely, research brilliantly, interact sufficiently and enhance multicultural knowledge. The college has dedicated, experienced and efficient teaching faculties.\\xa0\\xa0\", 'websiteURL': 'http://www.texasintl.edu.np/', 'established': '2009 AD', 'organization_type': ' private Institution ', 'gallery': ['https://media.edusanjal.com/__sized__/gallery/Padmashree_Library-crop-c0-5__0-5-180x120-70.JPG', 'https://media.edusanjal.com/__sized__/gallery/Food_Preparation_Padmashree-crop-c0-5__0-5-180x120-70.JPG', 'https://media.edusanjal.com/__sized__/gallery/Culinary_design_Padmashree_International_College-crop-c0-5__0-5-180x120-70.JPG', 'https://media.edusanjal.com/__sized__/gallery/Padmashree_6-crop-c0-5__0-5-180x120-70.jpg', 'https://media.edusanjal.com/__sized__/gallery/Padmashree_4-crop-c0-5__0-5-180x120-70.jpg', 'https://media.edusanjal.com/__sized__/gallery/Padmashree_BHM-crop-c0-5__0-5-180x120-70.jpg', 'https://media.edusanjal.com/__sized__/gallery/Padmashree_Activities_4-crop-c0-5__0-5-180x120-70.JPG', 'https://media.edusanjal.com/__sized__/gallery/Padmashree_Activities_3-crop-c0-5__0-5-180x120-70.JPG', 'https://media.edusanjal.com/__sized__/gallery/Padmashree_Activities_2-crop-c0-5__0-5-180x120-70.JPG', 'https://media.edusanjal.com/__sized__/gallery/Padmashree_Activities_1-crop-c0-5__0-5-180x120-70.jpg', 'https://media.edusanjal.com/__sized__/gallery/padmashree_lab-crop-c0-5__0-5-180x120-70.jpg', 'https://media.edusanjal.com/__sized__/gallery/padmashree_computer_lab-crop-c0-5__0-5-180x120-70.jpg', 'https://media.edusanjal.com/__sized__/gallery/Padmashree_Class-crop-c0-5__0-5-180x120-70.JPG', 'https://media.edusanjal.com/__sized__/gallery/Padmashree_BHM_Students-crop-c0-5__0-5-180x120-70.JPG', 'https://media.edusanjal.com/__sized__/gallery/Padmashree_BHM_Bar-crop-c0-5__0-5-180x120-70.JPG', 'https://media.edusanjal.com/__sized__/gallery/Padmashree_Convocation-crop-c0-5__0-5-180x120-70.JPG'], 'scholarship': {'title': ['Entry Level Scholarships', 'Performance-based Scholarships']}}\n"
     ]
    }
   ],
   "source": [
    "dict={\n",
    "    'name':title,\n",
    "    'address':\n",
    "    {\n",
    "        'country_name': 'Nepal',\n",
    "        'city':city,\n",
    "        'district':district,\n",
    "        'street_line_address':street_line_address,\n",
    "        'latitude':latitude,\n",
    "        'longitude':longitude,\n",
    "    },\n",
    "    'email':email_element,\n",
    "    'contact':phone_element,\n",
    "    'logo':logos,\n",
    "    'coverimage':coverimage,\n",
    "    'about':about_text,\n",
    "    'websiteURL':url,\n",
    "    'established':est,\n",
    "    'organization_type':org_type,\n",
    "    'gallery':gallery,\n",
    "    'scholarship':\n",
    "    {\n",
    "        'title':scholarship_items,\n",
    "    },\n",
    "    \n",
    "}\n",
    "\n",
    "print(dict)"
   ]
  }
 ],
 "metadata": {
  "kernelspec": {
   "display_name": "Python 3 (ipykernel)",
   "language": "python",
   "name": "python3"
  },
  "language_info": {
   "codemirror_mode": {
    "name": "ipython",
    "version": 3
   },
   "file_extension": ".py",
   "mimetype": "text/x-python",
   "name": "python",
   "nbconvert_exporter": "python",
   "pygments_lexer": "ipython3",
   "version": "3.10.9"
  }
 },
 "nbformat": 4,
 "nbformat_minor": 5
}
