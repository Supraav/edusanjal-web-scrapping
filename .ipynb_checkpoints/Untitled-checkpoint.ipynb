{
 "cells": [
  {
   "cell_type": "code",
   "execution_count": 11,
   "id": "cc55b648",
   "metadata": {},
   "outputs": [],
   "source": [
    "import requests\n",
    "from bs4 import BeautifulSoup as bs\n",
    "import requests\n",
    "import json"
   ]
  },
  {
   "cell_type": "code",
   "execution_count": 265,
   "id": "3a22cd31",
   "metadata": {},
   "outputs": [],
   "source": [
    "HEADER = {'User-Agent': 'Mozilla/5.0 (Windows; U; Windows NT 5.1; en-US; rv:1.9.0.7) Gecko/2009021910 Firefox/3.0.7'}\n",
    "website = 'https://edusanjal.com/college/texas-international-higher-secondary-school-and-college/'\n",
    "# website = 'https://edusanjal.com/college/padmashree-international-college/'"
   ]
  },
  {
   "cell_type": "code",
   "execution_count": 268,
   "id": "18c47eae",
   "metadata": {},
   "outputs": [
    {
     "name": "stdout",
     "output_type": "stream",
     "text": [
      "<title>Texas International College - Edusanjal</title>\n"
     ]
    }
   ],
   "source": [
    "result = requests.get(website,headers=HEADER)\n",
    "content = result.text\n",
    "soup = bs(content,\"lxml\")\n",
    "# print(soup.prettify())\n",
    "print(soup.head.title)"
   ]
  },
  {
   "cell_type": "markdown",
   "id": "c322fa5d",
   "metadata": {},
   "source": [
    "#### title"
   ]
  },
  {
   "cell_type": "code",
   "execution_count": 24,
   "id": "e43bf2ce",
   "metadata": {},
   "outputs": [],
   "source": [
    "title=soup.find_all('div',class_ = 'org-title')[0]\n"
   ]
  },
  {
   "cell_type": "code",
   "execution_count": 25,
   "id": "b87ba1f6",
   "metadata": {},
   "outputs": [
    {
     "name": "stdout",
     "output_type": "stream",
     "text": [
      "Texas International College  ✓ \n"
     ]
    }
   ],
   "source": [
    "print(title.h1.text)"
   ]
  },
  {
   "cell_type": "markdown",
   "id": "efe076a5",
   "metadata": {},
   "source": [
    "#### address\n"
   ]
  },
  {
   "cell_type": "code",
   "execution_count": 96,
   "id": "6f731a42",
   "metadata": {},
   "outputs": [
    {
     "name": "stdout",
     "output_type": "stream",
     "text": [
      "Mitrapark, Chabhil, Kathmandu\n",
      "['Mitrapark,', 'Chabhil,', 'Kathmandu']\n"
     ]
    }
   ],
   "source": [
    "address=title.find_all('div',class_='text-base')\n",
    "address_location = div.span.get_text()\n",
    "#this is the streetline address\n",
    "print(address_location)  \n",
    "location=address_location.split(' ')\n",
    "# location=['tinkune','america','kathmandu']\n",
    "print(location)\n"
   ]
  },
  {
   "cell_type": "code",
   "execution_count": 94,
   "id": "39802e02",
   "metadata": {},
   "outputs": [
    {
     "name": "stdout",
     "output_type": "stream",
     "text": [
      "Mitrapark,Chabhil,\n",
      "Kathmandu\n"
     ]
    }
   ],
   "source": [
    "if len(location) > 2:    \n",
    "    city=location[0]+location[1]\n",
    "    district=location[2]\n",
    "else:\n",
    "    city=location[0]\n",
    "    district=location[1]\n",
    "\n",
    "#this is the city and the district\n",
    "print(city)\n",
    "print(district)"
   ]
  },
  {
   "cell_type": "markdown",
   "id": "01b713cb",
   "metadata": {},
   "source": [
    "#### latitide and longitde\n"
   ]
  },
  {
   "cell_type": "code",
   "execution_count": 95,
   "id": "8447efc8",
   "metadata": {},
   "outputs": [
    {
     "name": "stdout",
     "output_type": "stream",
     "text": [
      "27.71349 85.34517\n"
     ]
    }
   ],
   "source": [
    "direction=soup.find('div',id='map')\n",
    "map_link = direction.find('a')['href']\n",
    "coordinates = map_link.split('?q=')[1].split(',')\n",
    "# print(map_link)\n",
    "#this is the latitude and longitude\n",
    "latitude = coordinates[0]\n",
    "longitude = coordinates[1]\n",
    "print(latitude,longitude)\n"
   ]
  },
  {
   "cell_type": "markdown",
   "id": "bbaaa407",
   "metadata": {},
   "source": [
    "#### right column"
   ]
  },
  {
   "cell_type": "code",
   "execution_count": 167,
   "id": "8c900cc5",
   "metadata": {},
   "outputs": [],
   "source": [
    "right_column=soup.find('div',class_='org-right')"
   ]
  },
  {
   "cell_type": "markdown",
   "id": "3351e2b8",
   "metadata": {},
   "source": [
    "#### email"
   ]
  },
  {
   "cell_type": "code",
   "execution_count": 168,
   "id": "a5a1d5c8",
   "metadata": {},
   "outputs": [
    {
     "name": "stdout",
     "output_type": "stream",
     "text": [
      "enquiry@texasintl.edu.np\n"
     ]
    }
   ],
   "source": [
    "email_tag=right_column.find('li',title='Email')\n",
    "#this is the email\n",
    "email_element = email_tag.span.get_text()\n",
    "print(email_element)"
   ]
  },
  {
   "cell_type": "markdown",
   "id": "700be401",
   "metadata": {},
   "source": [
    "#### phone number"
   ]
  },
  {
   "cell_type": "code",
   "execution_count": 169,
   "id": "dce90700",
   "metadata": {},
   "outputs": [
    {
     "name": "stdout",
     "output_type": "stream",
     "text": [
      "['01-4579017', '01-4490670', '01-4488627']\n"
     ]
    }
   ],
   "source": [
    "phone_tag=right_column.find('li',title='Phone')\n",
    "#this is the phone element\n",
    "phone_element = phone_tag.span.get_text().replace(',','|').replace('&','|').replace(' ','').split('|')\n",
    "print(phone_element)"
   ]
  },
  {
   "cell_type": "markdown",
   "id": "9f26d756",
   "metadata": {},
   "source": [
    "#### logo"
   ]
  },
  {
   "cell_type": "code",
   "execution_count": 170,
   "id": "21e7b238",
   "metadata": {},
   "outputs": [
    {
     "name": "stdout",
     "output_type": "stream",
     "text": [
      "https://media.edusanjal.com/__sized__/logos/logo-02-thumbnail-200x200.png\n"
     ]
    }
   ],
   "source": [
    "logos=soup.select_one('img.max-h-48.mb-1.md\\:-mb-8.rounded-r-3xl.md\\:shadow-xl.p-4.md\\:bg-white')['src']\n",
    "print(logos)"
   ]
  },
  {
   "cell_type": "markdown",
   "id": "69def8e7",
   "metadata": {},
   "source": [
    "#### cover image"
   ]
  },
  {
   "cell_type": "code",
   "execution_count": 171,
   "id": "0119d14e",
   "metadata": {},
   "outputs": [
    {
     "name": "stdout",
     "output_type": "stream",
     "text": [
      "https://media.edusanjal.com/__sized__/cover_photo/texas-intl-cover-thumbnail-1400x280-70.jpg\n"
     ]
    }
   ],
   "source": [
    "coverimage=soup.select_one('img.object-scale-down.w-full.mh-300')['src']\n",
    "print(coverimage)"
   ]
  },
  {
   "cell_type": "markdown",
   "id": "634f6d51",
   "metadata": {},
   "source": [
    "#### about"
   ]
  },
  {
   "cell_type": "code",
   "execution_count": 172,
   "id": "0e449878",
   "metadata": {},
   "outputs": [
    {
     "name": "stdout",
     "output_type": "stream",
     "text": [
      "Texas International College is ideally situated at Mitrapark, Chabahil, Kathmandu, one of the prime location of Kathmandu Valley. It is a unit of Texas International Education Network established in 2009. It is an academic institution run, managed and patronized by energetic educational professionals and experts having strong will to turn it into the first choice of quality-seeking and studious students. \n",
      "The motto of the college is 'Education for a complete human being' and the college commits to provide quality education at affordable fees. It caters quality education in Management, Science and Humanities streams.\n",
      "Texas International College offers B.Sc. CSIT, Bachelor of Business Studies (BBS), Bachelor of Business Management (BBM),Bachelor of Arts (BA), Bachelor of Arts in Social Works (BSW), Bachelor of Computer Applications (BCA), and Master of Business Studies (MBS) with the affiliation from Tribhuvan University.\n",
      "The main purpose of the college is to produce professionally sound, socially amiable and globally competent workforce for the global needs. Its main objective is to make students enrolled to be able to pursue their study uniquely, research brilliantly, interact sufficiently and enhance multicultural knowledge. The college has dedicated, experienced and efficient teaching faculties.  \n"
     ]
    }
   ],
   "source": [
    "about_main=soup.select_one('.content.mt-4.col-span-3.pr-8')\n",
    "#this is the about text\n",
    "about_text=about_main.select_one('.prose.max-w-none.text-gray-600 ').text\n",
    "print(about_text)"
   ]
  },
  {
   "cell_type": "markdown",
   "id": "6af9a862",
   "metadata": {},
   "source": [
    "#### website URL"
   ]
  },
  {
   "cell_type": "code",
   "execution_count": 173,
   "id": "fd880dbc",
   "metadata": {},
   "outputs": [
    {
     "name": "stdout",
     "output_type": "stream",
     "text": [
      "http://www.texasintl.edu.np/\n"
     ]
    }
   ],
   "source": [
    "url=right_column.select_one('a.inline-flex.justify-center.h-12.w-12.text-lg.hover\\:text-gray-800')['href']\n",
    "print(url)"
   ]
  },
  {
   "cell_type": "markdown",
   "id": "13d5ac86",
   "metadata": {},
   "source": [
    "#### established date"
   ]
  },
  {
   "cell_type": "code",
   "execution_count": 182,
   "id": "dad49540",
   "metadata": {},
   "outputs": [
    {
     "name": "stdout",
     "output_type": "stream",
     "text": [
      "2009 AD\n"
     ]
    }
   ],
   "source": [
    "est_date=right_column.find('li',title='Established')\n",
    "est_list= est_date.span.get_text().split(' ')\n",
    "est=est_list[1]+' '+est_list[2]\n",
    "print(est)"
   ]
  },
  {
   "cell_type": "markdown",
   "id": "195f8d51",
   "metadata": {},
   "source": [
    "#### ownership type"
   ]
  },
  {
   "cell_type": "code",
   "execution_count": 186,
   "id": "fca42235",
   "metadata": {},
   "outputs": [
    {
     "name": "stdout",
     "output_type": "stream",
     "text": [
      " private Institution \n"
     ]
    }
   ],
   "source": [
    "ownership_type_find=right_column.find('li',title='Ownership')\n",
    "ownership_type= ownership_type_find.span.get_text()\n",
    "print(org_type)"
   ]
  },
  {
   "cell_type": "markdown",
   "id": "f1fc66ba",
   "metadata": {},
   "source": [
    "#### gallery"
   ]
  },
  {
   "cell_type": "code",
   "execution_count": 196,
   "id": "7c643708",
   "metadata": {},
   "outputs": [
    {
     "name": "stdout",
     "output_type": "stream",
     "text": [
      "['https://media.edusanjal.com/__sized__/gallery/texas-international-college-3-crop-c0-5__0-5-180x120-70.jpg', 'https://media.edusanjal.com/__sized__/gallery/Texas-International-College-crop-c0-5__0-5-180x120-70.jpg', 'https://media.edusanjal.com/__sized__/gallery/texas-international-college-1-crop-c0-5__0-5-180x120-70.jpg', 'https://media.edusanjal.com/__sized__/gallery/texas-college-study-crop-c0-5__0-5-180x120-70.jpg', 'https://media.edusanjal.com/__sized__/gallery/Texas-college-students-crop-c0-5__0-5-180x120-70.jpg', 'https://media.edusanjal.com/__sized__/gallery/Texas-College-Sports-crop-c0-5__0-5-180x120-70.jpg', 'https://media.edusanjal.com/__sized__/gallery/texas-college-library-crop-c0-5__0-5-180x120-70.jpg', 'https://media.edusanjal.com/__sized__/gallery/Texas-College-Lab-crop-c0-5__0-5-180x120-70.jpg', 'https://media.edusanjal.com/__sized__/gallery/Texas-College-Classroom-crop-c0-5__0-5-180x120-70.jpg', 'https://media.edusanjal.com/__sized__/gallery/Texas_international_school_building-crop-c0-5__0-5-180x120-70.jpg']\n"
     ]
    }
   ],
   "source": [
    "\n",
    "gallery_find = soup.find('div', id='gallery')\n",
    "gallery_photos = gallery_find.find_all('img')\n",
    "gallery = [photo['src'] for photo in gallery_photos]\n",
    "print(gallery)\n",
    "    \n",
    "    \n"
   ]
  },
  {
   "cell_type": "markdown",
   "id": "5ed80616",
   "metadata": {},
   "source": [
    "#### scholarship"
   ]
  },
  {
   "cell_type": "code",
   "execution_count": 260,
   "id": "b3cddb48",
   "metadata": {},
   "outputs": [
    {
     "name": "stdout",
     "output_type": "stream",
     "text": [
      "['Entry Level Scholarships', 'Performance-based Scholarships']\n"
     ]
    }
   ],
   "source": [
    "scholarship_find=soup.find('div',id='scholarship_information')\n",
    "scholarship_div=scholarship_find.select_one('.prose.max-w-none.text-gray-600').ul\n",
    "scholarship_items = [item.text.strip() for item in scholarship_div if item.text.strip()]\n",
    "print(scholarship_items)"
   ]
  },
  {
   "cell_type": "markdown",
   "id": "38c04328",
   "metadata": {},
   "source": [
    "#### affiliated to"
   ]
  },
  {
   "cell_type": "code",
   "execution_count": 262,
   "id": "eb482f09",
   "metadata": {
    "collapsed": true
   },
   "outputs": [
    {
     "ename": "AttributeError",
     "evalue": "ResultSet object has no attribute 'find_all'. You're probably treating a list of elements like a single element. Did you call find_all() when you meant to call find()?",
     "output_type": "error",
     "traceback": [
      "\u001b[1;31m---------------------------------------------------------------------------\u001b[0m",
      "\u001b[1;31mAttributeError\u001b[0m                            Traceback (most recent call last)",
      "Cell \u001b[1;32mIn [262], line 2\u001b[0m\n\u001b[0;32m      1\u001b[0m affiliated_list \u001b[38;5;241m=\u001b[39m right_column\u001b[38;5;241m.\u001b[39mfind_all(\u001b[38;5;124m'\u001b[39m\u001b[38;5;124mul\u001b[39m\u001b[38;5;124m'\u001b[39m, class_\u001b[38;5;241m=\u001b[39m\u001b[38;5;124m'\u001b[39m\u001b[38;5;124mflex flex-col bg-gray-100 pt-8 rounded-r-2xl text-sm text-gray-500\u001b[39m\u001b[38;5;124m'\u001b[39m)\n\u001b[1;32m----> 2\u001b[0m affiliated_div \u001b[38;5;241m=\u001b[39m \u001b[43maffiliated_list\u001b[49m\u001b[38;5;241;43m.\u001b[39;49m\u001b[43mfind_all\u001b[49m(\u001b[38;5;124m'\u001b[39m\u001b[38;5;124ma\u001b[39m\u001b[38;5;124m'\u001b[39m,class_\u001b[38;5;241m=\u001b[39m\u001b[38;5;124m\"\u001b[39m\u001b[38;5;124mhover:text-gray-800\u001b[39m\u001b[38;5;124m\"\u001b[39m)\n\u001b[0;32m      3\u001b[0m \u001b[38;5;28mprint\u001b[39m(affiliated_div)\n",
      "File \u001b[1;32m~\\AppData\\Local\\Programs\\Python\\Python310\\lib\\site-packages\\bs4\\element.py:2289\u001b[0m, in \u001b[0;36mResultSet.__getattr__\u001b[1;34m(self, key)\u001b[0m\n\u001b[0;32m   2287\u001b[0m \u001b[38;5;28;01mdef\u001b[39;00m \u001b[38;5;21m__getattr__\u001b[39m(\u001b[38;5;28mself\u001b[39m, key):\n\u001b[0;32m   2288\u001b[0m     \u001b[38;5;124;03m\"\"\"Raise a helpful exception to explain a common code fix.\"\"\"\u001b[39;00m\n\u001b[1;32m-> 2289\u001b[0m     \u001b[38;5;28;01mraise\u001b[39;00m \u001b[38;5;167;01mAttributeError\u001b[39;00m(\n\u001b[0;32m   2290\u001b[0m         \u001b[38;5;124m\"\u001b[39m\u001b[38;5;124mResultSet object has no attribute \u001b[39m\u001b[38;5;124m'\u001b[39m\u001b[38;5;132;01m%s\u001b[39;00m\u001b[38;5;124m'\u001b[39m\u001b[38;5;124m. You\u001b[39m\u001b[38;5;124m'\u001b[39m\u001b[38;5;124mre probably treating a list of elements like a single element. Did you call find_all() when you meant to call find()?\u001b[39m\u001b[38;5;124m\"\u001b[39m \u001b[38;5;241m%\u001b[39m key\n\u001b[0;32m   2291\u001b[0m     )\n",
      "\u001b[1;31mAttributeError\u001b[0m: ResultSet object has no attribute 'find_all'. You're probably treating a list of elements like a single element. Did you call find_all() when you meant to call find()?"
     ]
    }
   ],
   "source": [
    "# affiliated_list = right_column.find_all('ul', class_='flex flex-col bg-gray-100 pt-8 rounded-r-2xl text-sm text-gray-500')\n",
    "# affiliated_div = affiliated_list.find_all('a',class_=\"hover:text-gray-800\")\n",
    "# print(affiliated_div)"
   ]
  },
  {
   "cell_type": "markdown",
   "id": "d63dadb6",
   "metadata": {},
   "source": [
    "#### courses"
   ]
  },
  {
   "cell_type": "code",
   "execution_count": 272,
   "id": "33869719",
   "metadata": {},
   "outputs": [
    {
     "name": "stdout",
     "output_type": "stream",
     "text": [
      "[<div class=\"pb-2 mb-2 border-b last:border-b-0\"><div class=\"flex justify-between mb-1\"><a class=\"font-bold\" href=\"/college/texas-international-higher-secondary-school-and-college/program/bsc-computer-science-and-information-technology-bsc-csit-tribhuvan-university/\">BSc Computer Science and Information Technology <span class=\"italic text-sm\">(BScCSIT)</span></a><span class=\"text-xs\">48 Seats </span></div><!-- --><!-- --><!-- --></div>, <div class=\"pb-2 mb-2 border-b last:border-b-0\"><div class=\"flex justify-between mb-1\"><a class=\"font-bold\" href=\"/college/texas-international-higher-secondary-school-and-college/program/bachelor-in-computer-application-bca-tribhuvan-university/\">Bachelor of Computer Application <span class=\"italic text-sm\">(BCA)</span></a><span class=\"text-xs\">35 Seats </span></div><!-- --><!-- --><!-- --></div>, <div class=\"pb-2 mb-2 border-b last:border-b-0\"><div class=\"flex justify-between mb-1\"><a class=\"font-bold\" href=\"/college/texas-international-higher-secondary-school-and-college/program/bachelor-of-business-studies-bbs-tribhuvan-university/\">Bachelor of Business Studies <span class=\"italic text-sm\">(BBS)</span></a><!-- --></div><!-- --><!-- --><!-- --></div>, <div class=\"pb-2 mb-2 border-b last:border-b-0\"><div class=\"flex justify-between mb-1\"><a class=\"font-bold\" href=\"/college/texas-international-higher-secondary-school-and-college/program/bachelor-of-social-works-bsw-tribhuvan-university/\">Bachelor of Arts in Social Work <span class=\"italic text-sm\">(BASW)</span></a><!-- --></div><!-- --><!-- --><!-- --></div>, <div class=\"pb-2 mb-2 border-b last:border-b-0\"><div class=\"flex justify-between mb-1\"><a class=\"font-bold\" href=\"/college/texas-international-higher-secondary-school-and-college/program/bachelor-of-business-management-bbm-tribhuvan-university/\">Bachelor of Business Management <span class=\"italic text-sm\">(BBM)</span></a><!-- --></div><!-- --><!-- --><!-- --></div>, <div class=\"pb-2 mb-2 border-b last:border-b-0\"><div class=\"flex justify-between mb-1\"><a class=\"font-bold\" href=\"/course/bachelor-of-arts-ba-tribhuvan-university/\">Bachelor of Arts <span class=\"italic text-sm\">(BA)</span></a><!-- --></div><!-- --><!-- --><!-- --></div>, <div class=\"pb-2 mb-2 border-b last:border-b-0\"><div class=\"flex justify-between mb-1\"><a class=\"font-bold\" href=\"/course/master-of-business-studies-mbs-tribhuvan-university/\">Master of Business Studies <span class=\"italic text-sm\">(MBS)</span></a><!-- --></div><!-- --><!-- --><!-- --></div>]\n"
     ]
    }
   ],
   "source": [
    "course=soup.find('div',id='programs')\n",
    "course_program=course.select('.pb-2.mb-2.border-b.last\\:border-b-0')\n",
    "print(course_program)"
   ]
  },
  {
   "cell_type": "code",
   "execution_count": null,
   "id": "5468075f",
   "metadata": {},
   "outputs": [],
   "source": []
  }
 ],
 "metadata": {
  "kernelspec": {
   "display_name": "Python 3 (ipykernel)",
   "language": "python",
   "name": "python3"
  },
  "language_info": {
   "codemirror_mode": {
    "name": "ipython",
    "version": 3
   },
   "file_extension": ".py",
   "mimetype": "text/x-python",
   "name": "python",
   "nbconvert_exporter": "python",
   "pygments_lexer": "ipython3",
   "version": "3.10.9"
  }
 },
 "nbformat": 4,
 "nbformat_minor": 5
}
